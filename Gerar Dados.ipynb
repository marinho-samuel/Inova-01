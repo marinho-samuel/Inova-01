{
  "nbformat": 4,
  "nbformat_minor": 0,
  "metadata": {
    "colab": {
      "provenance": [],
      "authorship_tag": "ABX9TyMfLaKF0nRnxcfw9Uu3uQMu",
      "include_colab_link": true
    },
    "kernelspec": {
      "name": "python3",
      "display_name": "Python 3"
    },
    "language_info": {
      "name": "python"
    }
  },
  "cells": [
    {
      "cell_type": "markdown",
      "metadata": {
        "id": "view-in-github",
        "colab_type": "text"
      },
      "source": [
        "<a href=\"https://colab.research.google.com/github/marinho-samuel/Inova-01/blob/main/Gerar%20Dados.ipynb\" target=\"_parent\"><img src=\"https://colab.research.google.com/assets/colab-badge.svg\" alt=\"Open In Colab\"/></a>"
      ]
    },
    {
      "cell_type": "markdown",
      "source": [
        "Programa utilziado para gerar os dados da Equipe 7"
      ],
      "metadata": {
        "id": "APj3A4P0g8yg"
      }
    },
    {
      "cell_type": "code",
      "source": [
        "import pandas as pd\n",
        "import random\n",
        "from google.colab import files\n",
        "\n",
        "# Lista expandida de nomes para gerar 100 registros\n",
        "expanded_names = [\n",
        "    \"Ana Silva\", \"Bruno Oliveira\", \"Carla Santos\", \"Daniel Pereira\", \"Eduarda Lima\",\n",
        "    \"Fábio Costa\", \"Gabriela Almeida\", \"Henrique Fernandes\", \"Isabela Rocha\", \"João Souza\",\n",
        "    \"Larissa Carvalho\", \"Marcos Ribeiro\", \"Natália Araújo\", \"Otávio Barros\", \"Patrícia Duarte\",\n",
        "    \"Renato Martins\", \"Sabrina Gonçalves\", \"Tiago Monteiro\", \"Vanessa Almeida\", \"Wagner Castro\",\n",
        "    \"Yasmin Silva\", \"Zé Carlos\", \"Alice Moura\", \"Bárbara Moreira\", \"Cláudio Nunes\",\n",
        "    \"Diana Costa\", \"Eduardo Lima\", \"Fernanda Castro\", \"Gustavo Reis\", \"Helena Fernandes\",\n",
        "    \"Igor Araújo\", \"Júlia Matos\", \"Kevin Barbosa\", \"Lúcia Mendes\", \"Maurício Souza\",\n",
        "    \"Nina Ramos\", \"Orlando Moreira\", \"Paula Teixeira\", \"Rafael Martins\", \"Sofia Almeida\",\n",
        "    \"Tatiane Rocha\", \"Ursula Nunes\", \"Victor Reis\", \"Wesley Sousa\", \"Xavier Santos\",\n",
        "    \"Yara Fernandes\", \"Zilda Ferreira\", \"André Silva\", \"Brenda Oliveira\", \"Camila Santos\"\n",
        "]\n",
        "\n",
        "# Garantir que há nomes únicos suficientes\n",
        "expanded_names = expanded_names[:100]\n",
        "\n",
        "# Definindo as colunas e suas alternativas\n",
        "data = {\n",
        "    \"Nome\": expanded_names,\n",
        "    \"Habilidade principal\": [\"Comunicação\", \"Gestão\", \"Criação\"],\n",
        "    \"Preferência de trabalho\": [\"Educação\", \"Saúde\", \"Meio Ambiente\"],\n",
        "    \"Experiência\": [\"Gestão\", \"Saúde\", \"Arte e cultura\"],\n",
        "    \"Causas sociais que mais se sente motivado\": [\"Proteção Animal\", \"Inclusão Social\", \"Saúde e bem-estar\"],\n",
        "    \"Motivo de se voluntariar\": [\"Adquirir novas habilidades\", \"Retribuir à comunidade\", \"Fazer parte de uma causa maior\"],\n",
        "    \"Ser voluntário em mais de uma causa\": [\"Sim\", \"Não\"],\n",
        "    \"Preferência local\": [\"Prefiro na minha localidade\", \"Estou disposta a me deslocar\", \"Indiferente\"],\n",
        "    \"Quais idiomas você fala fluentemente\": [\"Inglês\", \"Espanhol\", \"Outros\"],\n",
        "    \"Horas semanais\": [\"01-08h semanais\", \"08-15h semanais\"],\n",
        "    \"Disponibilidade fds\": [\"Sim\", \"Não\"]\n",
        "}\n",
        "\n",
        "# Mapeamento de gênero para os novos nomes\n",
        "sex_options = [\"Masculino\", \"Feminino\"]\n",
        "gender_map = {name: random.choice(sex_options) for name in expanded_names}\n",
        "\n",
        "# Faixa de idade entre 18 e 40 anos\n",
        "age_options = list(range(18, 40))\n",
        "\n",
        "# Gerando 100 linhas de dados fictícios com as novas colunas e correções\n",
        "rows = []\n",
        "for name in expanded_names:\n",
        "    row = {\n",
        "        \"Nome\": name,\n",
        "        \"Sexo\": gender_map[name],\n",
        "        \"Idade\": random.choice(age_options),\n",
        "        \"Habilidade principal\": random.choice(data[\"Habilidade principal\"]),\n",
        "        \"Preferência de trabalho\": random.choice(data[\"Preferência de trabalho\"]),\n",
        "        \"Experiência\": random.choice(data[\"Experiência\"]),\n",
        "        \"Causas sociais que mais se sente motivado\": random.choice(data[\"Causas sociais que mais se sente motivado\"]),\n",
        "        \"Motivo de se voluntariar\": random.choice(data[\"Motivo de se voluntariar\"]),\n",
        "        \"Ser voluntário em mais de uma causa\": random.choice(data[\"Ser voluntário em mais de uma causa\"]),\n",
        "        \"Preferência local\": random.choice(data[\"Preferência local\"]),\n",
        "        \"Quais idiomas você fala fluentemente\": random.choice(data[\"Quais idiomas você fala fluentemente\"]),\n",
        "        \"Horas semanais\": random.choice(data[\"Horas semanais\"]),\n",
        "        \"Disponibilidade fds\": random.choice(data[\"Disponibilidade fds\"]),\n",
        "    }\n",
        "    rows.append(row)\n",
        "\n",
        "# Criando o DataFrame com os 100 registros\n",
        "df = pd.DataFrame(rows)\n",
        "\n",
        "# Salvando em um arquivo .xlsx\n",
        "file_path = \"dados_ficticios_100.xlsx\"\n",
        "df.to_excel(file_path, index=False)\n",
        "\n",
        "# Fazer o download do arquivo gerado\n",
        "files.download(file_path)\n",
        "\n",
        "print(f\"Arquivo Excel 'dados_ficticios_100.xlsx' criado com sucesso e pronto para download.\")\n"
      ],
      "metadata": {
        "colab": {
          "base_uri": "https://localhost:8080/",
          "height": 34
        },
        "id": "HPcIIFBNhHVp",
        "outputId": "1fdee8da-aa48-4d3c-db0d-6bafc9ddc90f"
      },
      "execution_count": 1,
      "outputs": [
        {
          "output_type": "display_data",
          "data": {
            "text/plain": [
              "<IPython.core.display.Javascript object>"
            ],
            "application/javascript": [
              "\n",
              "    async function download(id, filename, size) {\n",
              "      if (!google.colab.kernel.accessAllowed) {\n",
              "        return;\n",
              "      }\n",
              "      const div = document.createElement('div');\n",
              "      const label = document.createElement('label');\n",
              "      label.textContent = `Downloading \"${filename}\": `;\n",
              "      div.appendChild(label);\n",
              "      const progress = document.createElement('progress');\n",
              "      progress.max = size;\n",
              "      div.appendChild(progress);\n",
              "      document.body.appendChild(div);\n",
              "\n",
              "      const buffers = [];\n",
              "      let downloaded = 0;\n",
              "\n",
              "      const channel = await google.colab.kernel.comms.open(id);\n",
              "      // Send a message to notify the kernel that we're ready.\n",
              "      channel.send({})\n",
              "\n",
              "      for await (const message of channel.messages) {\n",
              "        // Send a message to notify the kernel that we're ready.\n",
              "        channel.send({})\n",
              "        if (message.buffers) {\n",
              "          for (const buffer of message.buffers) {\n",
              "            buffers.push(buffer);\n",
              "            downloaded += buffer.byteLength;\n",
              "            progress.value = downloaded;\n",
              "          }\n",
              "        }\n",
              "      }\n",
              "      const blob = new Blob(buffers, {type: 'application/binary'});\n",
              "      const a = document.createElement('a');\n",
              "      a.href = window.URL.createObjectURL(blob);\n",
              "      a.download = filename;\n",
              "      div.appendChild(a);\n",
              "      a.click();\n",
              "      div.remove();\n",
              "    }\n",
              "  "
            ]
          },
          "metadata": {}
        },
        {
          "output_type": "display_data",
          "data": {
            "text/plain": [
              "<IPython.core.display.Javascript object>"
            ],
            "application/javascript": [
              "download(\"download_9c83c2af-d542-4c2a-90fe-9852ba4efef1\", \"dados_ficticios_100.xlsx\", 8690)"
            ]
          },
          "metadata": {}
        },
        {
          "output_type": "stream",
          "name": "stdout",
          "text": [
            "Arquivo Excel 'dados_ficticios_100.xlsx' criado com sucesso e pronto para download.\n"
          ]
        }
      ]
    },
    {
      "cell_type": "code",
      "source": [],
      "metadata": {
        "id": "LjwRl6EShNyF"
      },
      "execution_count": null,
      "outputs": []
    }
  ]
}